{
 "cells": [
  {
   "cell_type": "markdown",
   "metadata": {},
   "source": [
    "## 1. Divisible By Ten\n",
    "\n",
    "Let’s start our loops code challenges with a function that counts how many numbers are divisible by ten from a list of numbers. This function will accept a list of numbers as an input parameter and use a loop to check each of the numbers in the list. Every time a number is divisible by 10, a counter will be incremented and the final count will be returned. "
   ]
  },
  {
   "cell_type": "code",
   "execution_count": null,
   "metadata": {},
   "outputs": [],
   "source": [
    "# Divisible By Ten\n",
    "def divisible_by_ten(nums):\n",
    "  count = 0\n",
    "  for num in nums:\n",
    "    if (num % 10 == 0):\n",
    "      count += 1\n",
    "  return count\n",
    "\n",
    "print(divisible_by_ten([20, 25, 30, 35, 40]))\n",
    "# should print 3"
   ]
  },
  {
   "cell_type": "markdown",
   "metadata": {},
   "source": [
    "## 2. Greetings\n",
    "\n",
    "You are invited to a social gathering, but you are tired of greeting everyone there. Luckily we can create a function to accomplish this task for us. In this challenge, we will take a list of names and prepend the string 'Hello, ' before each name."
   ]
  },
  {
   "cell_type": "code",
   "execution_count": null,
   "metadata": {},
   "outputs": [],
   "source": [
    "# Greetings\n",
    "def add_greetings(names):\n",
    "  greeting_list = []\n",
    "  for name in names:\n",
    "    greeting_list.append(f\"Hello, {name}\")\n",
    "  return greeting_list\n",
    "\n",
    "print(add_greetings([\"Owen\", \"Max\", \"Sophie\"]))\n",
    "# should print ['Hello, Owen', 'Hello, Max', 'Hello, Sophie']"
   ]
  },
  {
   "cell_type": "markdown",
   "metadata": {},
   "source": [
    "## 3. Delete Starting Even Numbers\n",
    "\n",
    "Let’s try a tricky challenge involving removing elements from a list. This function will repeatedly remove the first element of a list until it finds an odd number or runs out of elements. It will accept a list of numbers as an input parameter and return the modified list where any even numbers at the beginning of the list are removed. "
   ]
  },
  {
   "cell_type": "code",
   "execution_count": null,
   "metadata": {},
   "outputs": [],
   "source": [
    "# Delete Starting Even Numbers\n",
    "def delete_starting_evens(lst):\n",
    "  while len(lst) > 0 and lst[0] % 2 == 0:\n",
    "    lst.pop(0)\n",
    "  return lst\n",
    "\n",
    "print(delete_starting_evens([4, 8, 10, 11, 12, 15]))\n",
    "# should print [11, 12, 15]\n",
    "print(delete_starting_evens([4, 8, 10]))\n",
    "# should print []"
   ]
  },
  {
   "cell_type": "markdown",
   "metadata": {},
   "source": [
    "## 4. Odd Indices\n",
    "\n",
    "This next function will give us the values from a list at every odd index. We will need to accept a list of numbers as an input parameter and loop through the odd indices instead of the elements."
   ]
  },
  {
   "cell_type": "code",
   "execution_count": null,
   "metadata": {},
   "outputs": [],
   "source": [
    "# Odd Indices\n",
    "def odd_indices(lst):\n",
    "  new_lst = []\n",
    "  for index in range(1, len(lst), 2):\n",
    "    new_lst.append(lst[index])\n",
    "  return new_lst\n",
    "\n",
    "print(odd_indices([4, 3, 7, 10, 11, -2]))\n",
    "# should print [3, 10, -2]"
   ]
  },
  {
   "cell_type": "markdown",
   "metadata": {},
   "source": [
    "## 5. Exponents\n",
    "\n",
    "In this challenge, we will be using nested loops in order to raise a list of numbers to the power of a list of other numbers. What this means is that for every number in the first list, we will raise that number to the power of every number in the second list. If you provide the first list with 2 elements and the second list with 3 numbers, then there will be 6 final answers."
   ]
  },
  {
   "cell_type": "code",
   "execution_count": null,
   "metadata": {},
   "outputs": [],
   "source": [
    "# Exponents\n",
    "def exponents(bases, powers):\n",
    "  new_list = []\n",
    "  for base in bases:\n",
    "    for power in powers:\n",
    "      new_list.append(base ** power)\n",
    "  return new_list\n",
    "\n",
    "print(exponents([2, 3, 4], [1, 2, 3]))\n",
    "#should print [2, 4, 8, 3, 9, 27, 4, 16, 64]"
   ]
  },
  {
   "cell_type": "markdown",
   "metadata": {},
   "source": [
    "## 6. Larger Sum\n",
    "\n",
    "We are going to calculate which list of two inputs has the larger sum. We will iterate through each of the list and calculate the sums, afterwards we will compare the two and return which one has a greater sum."
   ]
  },
  {
   "cell_type": "code",
   "execution_count": null,
   "metadata": {},
   "outputs": [],
   "source": [
    "# Larger Sum\n",
    "def larger_sum(lst1, lst2):\n",
    "  if sum(lst1) >= sum(lst2):\n",
    "    return lst1\n",
    "  else:\n",
    "    return lst2\n",
    "\n",
    "print(larger_sum([1, 9, 5], [2, 3, 7]))\n",
    "# should print [1, 9, 5]"
   ]
  },
  {
   "cell_type": "markdown",
   "metadata": {},
   "source": [
    "## 7. Over 9000\n",
    "\n",
    "We are constructing a device that is able to measure the power level of our coding abilities and according to the device, it will be impossible for our power levels to be over 9000. Because of this, as we iterate through a list of power values we will count up each of the numbers until our sum reaches a value greater than 9000. Once this happens, we should stop adding the numbers and return the value where we stopped."
   ]
  },
  {
   "cell_type": "code",
   "execution_count": null,
   "metadata": {},
   "outputs": [],
   "source": [
    "# Over 9000\n",
    "def over_nine_thousand(lst):\n",
    "  sum = 0\n",
    "  for num in lst:\n",
    "    sum += num\n",
    "    if sum > 9000:\n",
    "      break\n",
    "  return sum\n",
    "\n",
    "print(over_nine_thousand([8000, 900, 120, 5000]))\n",
    "# should print 9020"
   ]
  },
  {
   "cell_type": "markdown",
   "metadata": {},
   "source": [
    "## 8. Max Num\n",
    "Here is a more traditional coding problem for you. This function will be used to find the maximum number in a list of numbers. This can be accomplished using the max() function in python, but as a challenge, we are going to manually implement this function. "
   ]
  },
  {
   "cell_type": "code",
   "execution_count": null,
   "metadata": {},
   "outputs": [],
   "source": [
    "# Max Num\n",
    "def max_num(nums):\n",
    "  maximum = nums[0]\n",
    "  for number in nums:\n",
    "    if number > maximum:\n",
    "      maximum = number\n",
    "  return maximum\n",
    "\n",
    "print(max_num([50, -10, 0, 75, 20]))\n",
    "# should print 75"
   ]
  },
  {
   "cell_type": "markdown",
   "metadata": {},
   "source": [
    "## 9. Same Values\n",
    "\n",
    "In this challenge, we need to find the indices in two equally sized lists where the numbers match. We will be iterating through both of them at the same time and comparing the values, if the numbers are equal, then we record the index. "
   ]
  },
  {
   "cell_type": "code",
   "execution_count": null,
   "metadata": {},
   "outputs": [],
   "source": [
    "# Same Values\n",
    "def same_values(lst1, lst2):\n",
    "  new_list = []\n",
    "  for index in range(len(lst1)):\n",
    "    if lst1[index] == lst2[index]:\n",
    "      new_list.append(index)\n",
    "  return new_list\n",
    "\n",
    "print(same_values([5, 1, -10, 3, 3], [5, 10, -10, 3, 5]))\n",
    "# should print [0, 2, 3]"
   ]
  },
  {
   "cell_type": "markdown",
   "metadata": {},
   "source": [
    "## 10. Reversed List\n",
    "\n",
    "For the final challenge, we are going to test two lists to see if the second list is the reverse of the first list. There are a few different ways to approach this, but we are going to try a method that iterates through each of the values in one direction for the first list and compares them against the values starting from the other direction in the second list."
   ]
  },
  {
   "cell_type": "code",
   "execution_count": null,
   "metadata": {},
   "outputs": [],
   "source": [
    "# Reversed List\n",
    "def reversed_list(lst1, lst2):\n",
    "  for index in range(len(lst1)):\n",
    "    if lst1[index] != lst2[-1 - index]:\n",
    "      return False\n",
    "  return True\n",
    "\n",
    "print(reversed_list([1, 2, 3], [3, 2, 1]))\n",
    "# should print True\n",
    "print(reversed_list([1, 5, 3], [3, 2, 1]))\n",
    "# should print False"
   ]
  }
 ],
 "metadata": {
  "kernelspec": {
   "display_name": "Python 3.10.4 64-bit",
   "language": "python",
   "name": "python3"
  },
  "language_info": {
   "name": "python",
   "version": "3.10.4"
  },
  "orig_nbformat": 4,
  "vscode": {
   "interpreter": {
    "hash": "1014177263681caae8baf45502689e562bf667a341984173b6f80d8733553204"
   }
  }
 },
 "nbformat": 4,
 "nbformat_minor": 2
}
