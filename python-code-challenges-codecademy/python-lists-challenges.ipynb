{
 "cells": [
  {
   "cell_type": "markdown",
   "metadata": {},
   "source": [
    "## 1. Append Size\n",
    "\n",
    "For the first code challenge, we are going to calculate the length of a list and then append the value to the end of the list. "
   ]
  },
  {
   "cell_type": "code",
   "execution_count": null,
   "metadata": {},
   "outputs": [],
   "source": [
    "# Append Size\n",
    "def append_size(lst):\n",
    "  lst.append(len(lst))\n",
    "  return lst\n",
    "\n",
    "print(append_size([23, 42, 108]))\n",
    "#should print [23, 42, 108, 3]"
   ]
  },
  {
   "cell_type": "markdown",
   "metadata": {},
   "source": [
    "## 2. Append Sum\n",
    "\n",
    "Let’s create a function that calculates the sum of the last two elements of a list and appends it to the end. After doing so, it will repeat this process two more times and return the resulting list. You can choose to use a loop or manually use three lines. "
   ]
  },
  {
   "cell_type": "code",
   "execution_count": null,
   "metadata": {},
   "outputs": [],
   "source": [
    "# Append Sum\n",
    "def append_sum(lst):\n",
    "  for i in range(3):\n",
    "    lst.append(lst[-2] + lst[-1])\n",
    "  return lst\n",
    "\n",
    "print(append_sum([1, 1, 2]))\n",
    "#should print [1, 1, 2, 3, 5, 8]"
   ]
  },
  {
   "cell_type": "markdown",
   "metadata": {},
   "source": [
    "## 3. Larger List\n",
    "\n",
    "Let’s say we are working with two conveyor belts that contain items represented by a numerical ID. If one conveyor belt contains more items than the other, then we need to return the ID of the last item on that belt. In the case where they have the same number of items, return the last item from the first conveyor belt. In our code, we can represent the belts using lists. "
   ]
  },
  {
   "cell_type": "code",
   "execution_count": null,
   "metadata": {},
   "outputs": [],
   "source": [
    "# Larger List\n",
    "def larger_list(lst1, lst2):\n",
    "  if len(lst1) >= len(lst2):\n",
    "    return (lst1[-1])\n",
    "  else:\n",
    "    return (lst2[-1])\n",
    "\n",
    "print(larger_list([4, 10, 2, 5], [-10, 2, 5, 10]))\n",
    "# should print 5"
   ]
  },
  {
   "cell_type": "markdown",
   "metadata": {},
   "source": [
    "## 4. More Than N\n",
    "\n",
    "Our factory produces a variety of different flavored snacks and we want to check the number of instances of a certain type. We have a conveyor belt full of different types of snacks represented by different numbers. Our function will accept a list of numbers (representing the type of snack), a number for the second parameter (the type of snack we are looking for), and another number as the third parameter (the maximum number of that type of snack on the conveyor belt). The function will return True if the snack we are searching for appears more times than we provided as our third parameter."
   ]
  },
  {
   "cell_type": "code",
   "execution_count": null,
   "metadata": {},
   "outputs": [],
   "source": [
    "# More Than N\n",
    "def more_than_n(lst, item, n):\n",
    "  if lst.count(item) > n:\n",
    "    return True\n",
    "  return False\n",
    "\n",
    "print(more_than_n([2, 4, 6, 2, 3, 2, 1, 2], 2, 3))\n",
    "# should print True"
   ]
  },
  {
   "cell_type": "markdown",
   "metadata": {},
   "source": [
    "## 5. Combine Sort\n",
    "\n",
    "Let’s create a function that combines two different lists together and then sorts them. To do this we can combine the lists with an operation and then sort using a function call. "
   ]
  },
  {
   "cell_type": "code",
   "execution_count": null,
   "metadata": {},
   "outputs": [],
   "source": [
    "# Combine Sort\n",
    "def combine_sort(lst1, lst2):\n",
    "  return sorted(lst1 + lst2)\n",
    "\n",
    "print(combine_sort([4, 10, 2, 5], [-10, 2, 5, 10]))\n",
    "# should print [-10, 2, 2, 4, 5, 5, 10, 10]"
   ]
  },
  {
   "cell_type": "markdown",
   "metadata": {},
   "source": [
    "## 6. Every Three Numbers\n",
    "\n",
    "Let’s write a function that creates a list of numbers up to 100 in increments of 3 starting from a number that is passed to the function as an input parameter."
   ]
  },
  {
   "cell_type": "code",
   "execution_count": null,
   "metadata": {},
   "outputs": [],
   "source": [
    "# Every Three Numbers\n",
    "def every_three_nums(start):\n",
    "  return list(range(start, 101, 3))\n",
    "\n",
    "print(every_three_nums(91))\n",
    "# should print [91, 94, 97, 100]"
   ]
  },
  {
   "cell_type": "markdown",
   "metadata": {},
   "source": [
    "## 7. Remove Middle\n",
    "\n",
    "Our next function will remove all elements from a list with an index within a certain range. The function will accept a list, a starting index, and an ending index. All elements with an index between the starting and ending index should be removed from the list. "
   ]
  },
  {
   "cell_type": "code",
   "execution_count": null,
   "metadata": {},
   "outputs": [],
   "source": [
    "# Remove Middle\n",
    "def remove_middle(lst, start, end):\n",
    "  return lst[:start] + lst[end+1:]\n",
    "\n",
    "print(remove_middle([4, 8, 15, 16, 23, 42], 1, 3))\n",
    "# should print [4, 23, 42]"
   ]
  },
  {
   "cell_type": "markdown",
   "metadata": {},
   "source": [
    "## 8. More Frequent Item\n",
    "\n",
    "Let’s go back to our factory example. We have a conveyor belt of items where each item is represented by a different number. We want to know, out of two items, which one shows up more on our belt. To solve this, we can use a function with three parameters. One parameter for the list of items, another for the first item we are comparing, and another for the second item. "
   ]
  },
  {
   "cell_type": "code",
   "execution_count": null,
   "metadata": {},
   "outputs": [],
   "source": [
    "# More Frequent Item\n",
    "def more_frequent_item(lst, item1, item2):\n",
    "  if lst.count(item1) >= lst.count(item2):\n",
    "    return item1\n",
    "  else:\n",
    "    return item2\n",
    "\n",
    "print(more_frequent_item([2, 3, 3, 2, 3, 2, 3, 2, 3], 2, 3))\n",
    "# should print 3"
   ]
  },
  {
   "cell_type": "markdown",
   "metadata": {},
   "source": [
    "## 9. Double Index\n",
    "\n",
    "Our next function will double a value at a given position. We will provide a list and an index to double. This will create a new list by replacing the value at the index provided with double the original value. If the index is invalid then we should return the original list."
   ]
  },
  {
   "cell_type": "code",
   "execution_count": null,
   "metadata": {},
   "outputs": [],
   "source": [
    "# Double Index\n",
    "def double_index(lst, index):\n",
    "  if index >= len(lst):\n",
    "    return lst\n",
    "  else:\n",
    "    new_list = lst[0:index]\n",
    "    new_list.append(lst[index]*2)\n",
    "    new_list = new_list + lst[index+1:]\n",
    "    return new_list\n",
    "\n",
    "print(double_index([3, 8, -10, 12], 2))\n",
    "# should print [3, 8, -20, 12]"
   ]
  },
  {
   "cell_type": "markdown",
   "metadata": {},
   "source": [
    "## 10. Middle Item\n",
    "\n",
    "For the final Lists code challenge, we are going to create a function that finds the middle item from a list of values. This will be different depending on whether there are an odd or even number of values. In the case of an odd number of elements, we want this function to return the exact middle value. If there is an even number of elements, it returns the average of the middle two elements."
   ]
  },
  {
   "cell_type": "code",
   "execution_count": null,
   "metadata": {},
   "outputs": [],
   "source": [
    "# Middle Item\n",
    "def middle_element(lst):\n",
    "  if len(lst) % 2 == 0:\n",
    "    sum = lst[int(len(lst)/2)] + lst[int(len(lst)/2) - 1]\n",
    "    return sum / 2\n",
    "  else:\n",
    "    return lst[int(len(lst)/2)]\n",
    " \n",
    "print(middle_element([5, 2, -10, -4, 4, 5]))\n",
    "# should print -7.0"
   ]
  }
 ],
 "metadata": {
  "kernelspec": {
   "display_name": "Python 3.10.4 64-bit",
   "language": "python",
   "name": "python3"
  },
  "language_info": {
   "codemirror_mode": {
    "name": "ipython",
    "version": 3
   },
   "file_extension": ".py",
   "mimetype": "text/x-python",
   "name": "python",
   "nbconvert_exporter": "python",
   "pygments_lexer": "ipython3",
   "version": "3.10.4"
  },
  "orig_nbformat": 4,
  "vscode": {
   "interpreter": {
    "hash": "1014177263681caae8baf45502689e562bf667a341984173b6f80d8733553204"
   }
  }
 },
 "nbformat": 4,
 "nbformat_minor": 2
}
