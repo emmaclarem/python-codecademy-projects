{
 "cells": [
  {
   "cell_type": "markdown",
   "metadata": {},
   "source": [
    "## Overview\n",
    "\n",
    "You have decided to use your programming knowledge to create a new robotics company. Your idea for micro driving robots which are able to pick up and deliver objects was promising and now you want to start programming the logic. These code challenges will use your knowledge of Classes to solve some example scenarios. Try solving the five challenge problems below!"
   ]
  },
  {
   "cell_type": "markdown",
   "metadata": {},
   "source": [
    "## 1. Setting Up Our Robot\n",
    "Let’s begin by creating the class for our robot. We will begin by setting up the instance variables to keep track of important data related to the robot. Here are the steps we need to do:"
   ]
  },
  {
   "cell_type": "code",
   "execution_count": null,
   "metadata": {},
   "outputs": [],
   "source": [
    "# Setting Up Our Robot\n",
    "class DriveBot:\n",
    "    def __init__(self, motor_speed=0, direction=0, sensor_range=0):\n",
    "        self.motor_speed = motor_speed\n",
    "        self.direction = direction\n",
    "        self.sensor_range = sensor_range\n",
    "\n",
    "robot_1 = DriveBot(5, 90, 10)\n",
    "print(robot_1.motor_speed)\n",
    "print(robot_1.direction)\n",
    "print(robot_1.sensor_range)"
   ]
  },
  {
   "cell_type": "markdown",
   "metadata": {},
   "source": [
    "## 2. Adding Robot Logic\n",
    "\n",
    "Now we want to add some logic to our robot. It would be very useful to be able to control our robot, so we are going to create a control_bot method which changes the speed and direction. We are also going to create a method called adjust_sensor. This method is used to change the range of our robot’s sensors which are used to detect obstacles. "
   ]
  },
  {
   "cell_type": "code",
   "execution_count": null,
   "metadata": {},
   "outputs": [],
   "source": [
    "# Adding Robot Logic\n",
    "class DriveBot:\n",
    "    def __init__(self):\n",
    "        self.motor_speed = 0\n",
    "        self.direction = 0\n",
    "        self.sensor_range = 0\n",
    "    \n",
    "    # methods\n",
    "    def control_bot(self, new_speed=0, new_direction=0):\n",
    "      self.motor_speed = new_speed\n",
    "      self.direction = new_direction\n",
    "\n",
    "    def adjust_sensor(self, new_sensor_range):\n",
    "      self.sensor_range = new_sensor_range\n",
    "\n",
    "robot_1 = DriveBot()\n",
    "\n",
    "# Use the methods here\n",
    "robot_1.control_bot(10, 180)\n",
    "robot_1.adjust_sensor(20)\n",
    "\n",
    "print(robot_1.motor_speed)\n",
    "print(robot_1.direction)\n",
    "print(robot_1.sensor_range)"
   ]
  },
  {
   "cell_type": "markdown",
   "metadata": {},
   "source": [
    "## 3. Enhanced Constructor\n",
    "\n",
    "It can be tedious manually setting the values for each instance variable after we have created an object from the DriveBot class. We can enhance our constructor to automatically assign the values we provide to the instance variables. Instead of taking zero parameters, we are going to make the constructor take three parameters. "
   ]
  },
  {
   "cell_type": "code",
   "execution_count": null,
   "metadata": {},
   "outputs": [],
   "source": [
    "# Enhanced Constructor\n",
    "class DriveBot:\n",
    "    def __init__(self, motor_speed=0, direction=180, sensor_range=10):\n",
    "        self.motor_speed = motor_speed\n",
    "        self.direction = direction\n",
    "        self.sensor_range = sensor_range\n",
    "    \n",
    "    def control_bot(self, new_speed, new_direction):\n",
    "        self.motor_speed = new_speed\n",
    "        self.direction = new_direction\n",
    "\n",
    "    def adjust_sensor(self, new_sensor_range):\n",
    "        self.sensor_range = new_sensor_range\n",
    "\n",
    "robot_1 = DriveBot()\n",
    "robot_1.motor_speed = 5\n",
    "robot_1.direction = 90\n",
    "robot_1.sensor_range = 10\n",
    "\n",
    "# Create robot_2 here\n",
    "robot_2 = DriveBot(35, 75, 25)\n",
    "print(robot_2.motor_speed)\n",
    "print(robot_2.direction)\n",
    "print(robot_2.sensor_range)"
   ]
  },
  {
   "cell_type": "markdown",
   "metadata": {},
   "source": [
    "## 4. Controlling Them All\n",
    "\n",
    "We want to add a new feature which allows the use to control multiple robots at once. The robots should be able to all have the same latitude and longitude GPS destination coordinates as well as a setting for disabling them all called all_disabled. We can accomplish this using class variables."
   ]
  },
  {
   "cell_type": "code",
   "execution_count": null,
   "metadata": {},
   "outputs": [],
   "source": [
    "# Controlling Them All\n",
    "class DriveBot:\n",
    "  # Create the class variables\n",
    "    all_disabled = False\n",
    "    latitude = -999999\n",
    "    longitude = -999999\n",
    "    def __init__(self, motor_speed = 0, direction = 180, sensor_range = 10):\n",
    "        self.motor_speed = motor_speed\n",
    "        self.direction = direction\n",
    "        self.sensor_range = sensor_range\n",
    "    \n",
    "    def control_bot(self, new_speed, new_direction):\n",
    "        self.motor_speed = new_speed\n",
    "        self.direction = new_direction\n",
    "\n",
    "    def adjust_sensor(self, new_sensor_range):\n",
    "        self.sensor_range = new_sensor_range\n",
    "\n",
    "robot_1 = DriveBot()\n",
    "robot_1.motor_speed = 5\n",
    "robot_1.direction = 90\n",
    "robot_1.sensor_range = 10\n",
    "\n",
    "robot_2 = DriveBot(35, 75, 25)\n",
    "robot_3 = DriveBot(20, 60, 10)\n",
    "\n",
    "# Change the latitude, longitude, and all_disabled values for all three robots\n",
    "DriveBot.longitude = 50\n",
    "DriveBot.latitude = -50\n",
    "DriveBot.all_disabled = True\n",
    "\n",
    "print(robot_1.latitude)\n",
    "print(robot_2.longitude)\n",
    "print(robot_3.all_disabled)"
   ]
  },
  {
   "cell_type": "markdown",
   "metadata": {},
   "source": [
    "## 5. Identifying Robots\n",
    "\n",
    "In order to keep track of the robots we are creating, we want to be able to assign an ID value to each robot when it is created. If we create five robots in a row, we want the IDs of each robot to be 1, 2, 3, 4, and 5 respectively. This can be accomplished by using a class variable counter which increments and is assigned to an instance variable for the ID whenever the constructor is called. "
   ]
  },
  {
   "cell_type": "code",
   "execution_count": null,
   "metadata": {},
   "outputs": [],
   "source": [
    "# Identifying Robots\n",
    "class DriveBot:\n",
    "  # Create a counter to keep track of how many robots are created\n",
    "    all_disabled = False\n",
    "    latitude = -999999\n",
    "    longitude = -999999\n",
    "    robot_count = 0\n",
    "\n",
    "    def __init__(self, motor_speed = 0, direction = 180, sensor_range = 10):\n",
    "        self.motor_speed = motor_speed\n",
    "        self.direction = direction\n",
    "        self.sensor_range = sensor_range\n",
    "        DriveBot.robot_count += 1\n",
    "        self.id = DriveBot.robot_count\n",
    "        # Assign an `id` to the robot when it is constructed \n",
    "        \n",
    "    def control_bot(self, new_speed, new_direction):\n",
    "        self.motor_speed = new_speed\n",
    "        self.direction = new_direction\n",
    "\n",
    "    def adjust_sensor(self, new_sensor_range):\n",
    "        self.sensor_range = new_sensor_range\n",
    "\n",
    "robot_1 = DriveBot()\n",
    "robot_1.motor_speed = 5\n",
    "robot_1.direction = 90\n",
    "robot_1.sensor_range = 10\n",
    "\n",
    "robot_2 = DriveBot(35, 75, 25)\n",
    "robot_3 = DriveBot(20, 60, 10)\n",
    "\n",
    "print(robot_1.id)\n",
    "print(robot_2.id)\n",
    "print(robot_3.id)"
   ]
  }
 ],
 "metadata": {
  "language_info": {
   "name": "python"
  },
  "orig_nbformat": 4
 },
 "nbformat": 4,
 "nbformat_minor": 2
}
