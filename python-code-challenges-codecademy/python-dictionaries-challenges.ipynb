{
 "cells": [
  {
   "cell_type": "markdown",
   "metadata": {},
   "source": [
    "# 1. Sum Values\n",
    "\n",
    "For this code challenge, we are going to look at only the values in a dictionary. This function should sum up all of the values from the key-value pairs in the dictionary."
   ]
  },
  {
   "cell_type": "code",
   "execution_count": null,
   "metadata": {},
   "outputs": [],
   "source": [
    "# Sum Values\n",
    "def sum_values(my_dictionary):\n",
    "  sum = 0\n",
    "  for value in my_dictionary.values():\n",
    "    sum += value\n",
    "  return sum\n",
    "\n",
    "print(sum_values({\"milk\":5, \"eggs\":2, \"flour\": 3}))\n",
    "# should print 10\n",
    "print(sum_values({10:1, 100:2, 1000:3}))\n",
    "# should print 6"
   ]
  },
  {
   "cell_type": "markdown",
   "metadata": {},
   "source": [
    "# 2. Even Keys\n",
    "\n",
    "Next, we are going to do something similar, but we are going to use the keys in order to retrieve the values. Additionally, we are going to only look at every even key within the dictionary."
   ]
  },
  {
   "cell_type": "code",
   "execution_count": null,
   "metadata": {},
   "outputs": [],
   "source": [
    "# Even Keys\n",
    "def sum_even_keys(my_dictionary):\n",
    "  total = 0\n",
    "  for key in my_dictionary.keys():\n",
    "    if key % 2 == 0:\n",
    "      total += my_dictionary[key]\n",
    "  return total\n",
    "\n",
    "print(sum_even_keys({1:5, 2:2, 3:3}))\n",
    "# should print 2\n",
    "print(sum_even_keys({10:1, 100:2, 1000:3}))\n",
    "# should print 6"
   ]
  },
  {
   "cell_type": "markdown",
   "metadata": {},
   "source": [
    "# 3. Add Ten\n",
    "\n",
    "Let’s loop through the keys again, but this time let’s modify the values within the dictionary. Our function should add 10 to every value in the dictionary and return the modified dictionary. "
   ]
  },
  {
   "cell_type": "code",
   "execution_count": null,
   "metadata": {},
   "outputs": [],
   "source": [
    "# Add Ten\n",
    "def add_ten(my_dictionary):\n",
    "  for key in my_dictionary.keys():\n",
    "    my_dictionary[key] += 10\n",
    "  return my_dictionary\n",
    ":\n",
    "print(add_ten({1:5, 2:2, 3:3}))\n",
    "# should print {1:15, 2:12, 3:13}\n",
    "print(add_ten({10:1, 100:2, 1000:3}))\n",
    "# should print {10:11, 100:12, 1000:13}"
   ]
  },
  {
   "cell_type": "markdown",
   "metadata": {},
   "source": [
    "# 4. Values That Are Keys\n",
    "\n",
    "We are making a program that will create a family tree. Using a dictionary, we want to return a list of all the children who are also parents of other children. Using dictionaries we can consider those people to be values which are also keys in our dictionary of family data."
   ]
  },
  {
   "cell_type": "code",
   "execution_count": 1,
   "metadata": {},
   "outputs": [
    {
     "name": "stdout",
     "output_type": "stream",
     "text": [
      "[1, 4]\n",
      "['a']\n"
     ]
    }
   ],
   "source": [
    "# Values That Are Keys\n",
    "def values_that_are_keys(my_dictionary):\n",
    "  new_list = []\n",
    "  for value in my_dictionary.values():\n",
    "    if value in my_dictionary.keys():\n",
    "      new_list.append(value)\n",
    "  return new_list\n",
    "\n",
    "print(values_that_are_keys({1:100, 2:1, 3:4, 4:10}))\n",
    "# should print [1, 4]\n",
    "print(values_that_are_keys({\"a\":\"apple\", \"b\":\"a\", \"c\":100}))\n",
    "# should print [\"a\"]"
   ]
  },
  {
   "cell_type": "markdown",
   "metadata": {},
   "source": [
    "# 5. Largest Value\n",
    "\n",
    "For this challenge, we are going to create a function that is able to find the maximum value in the dictionary and return the associated key. This is a twist on the max algorithm since it is using a dictionary rather than a list. "
   ]
  },
  {
   "cell_type": "code",
   "execution_count": null,
   "metadata": {},
   "outputs": [],
   "source": [
    "# Largest Value\n",
    "def max_key(my_dictionary):\n",
    "  largest_key = float(\"-inf\")\n",
    "  largest_value = float(\"-inf\")\n",
    "  for key, value in my_dictionary.items():\n",
    "    if value > largest_value:\n",
    "      largest_value = value\n",
    "      largest_key = key\n",
    "  return largest_key\n",
    "\n",
    "print(max_key({1:100, 2:1, 3:4, 4:10}))\n",
    "# should print 1\n",
    "print(max_key({\"a\":100, \"b\":10, \"c\":1000}))\n",
    "# should print \"c\""
   ]
  },
  {
   "cell_type": "markdown",
   "metadata": {},
   "source": [
    "# 6. Word Length Dict\n",
    "\n",
    "Let’s write a function that creates a new dictionary based on a list of strings. The keys of our dictionary will be every string in our list of strings, while the values will be the length of each of the words in the string list. "
   ]
  },
  {
   "cell_type": "code",
   "execution_count": null,
   "metadata": {},
   "outputs": [],
   "source": [
    "# Word Length Dict\n",
    "def word_length_dictionary(words):\n",
    "  length_list = [len(word) for word in words]\n",
    "  new_list = {key:value for key, value in zip(words, length_list)}\n",
    "  return new_list\n",
    "\n",
    "print(word_length_dictionary([\"apple\", \"dog\", \"cat\"]))\n",
    "# should print {\"apple\":5, \"dog\": 3, \"cat\":3}\n",
    "print(word_length_dictionary([\"a\", \"\"]))\n",
    "# should print {\"a\": 1, \"\": 0}"
   ]
  },
  {
   "cell_type": "markdown",
   "metadata": {},
   "source": [
    "# 7. Frequency Count\n",
    "\n",
    "This next function is similar, but instead of counting the length of each string in the list of strings, we will be counting the frequency of each string. This function will also accept a list of strings as input and return a new dictionary. "
   ]
  },
  {
   "cell_type": "code",
   "execution_count": null,
   "metadata": {},
   "outputs": [],
   "source": [
    "# Frequency Count\n",
    "def frequency_dictionary(words):\n",
    "  new_dictionary = {}\n",
    "  for word in words:\n",
    "    if word not in new_dictionary:\n",
    "      new_dictionary[word] = 0\n",
    "    new_dictionary[word] += 1\n",
    "  return new_dictionary\n",
    "\n",
    "print(frequency_dictionary([\"apple\", \"apple\", \"cat\", 1]))\n",
    "# should print {\"apple\":2, \"cat\":1, 1:1}\n",
    "print(frequency_dictionary([0,0,0,0,0]))\n",
    "# should print {0:5}"
   ]
  },
  {
   "cell_type": "markdown",
   "metadata": {},
   "source": [
    "# 8. Unique Values\n",
    "\n",
    "Now let’s try reading a dictionary as input and finding how many values are unique. The function should return a number which is the count of all values from the dictionary without including duplicates. "
   ]
  },
  {
   "cell_type": "code",
   "execution_count": null,
   "metadata": {},
   "outputs": [],
   "source": [
    "# Unique Values\n",
    "def unique_values(my_dictionary):\n",
    "  new_list = []\n",
    "  for value in my_dictionary.values():\n",
    "    if value not in new_list:\n",
    "      new_list.append(value)\n",
    "  return len(new_list)\n",
    "\n",
    "print(unique_values({0:3, 1:1, 4:1, 5:3}))\n",
    "# should print 2\n",
    "print(unique_values({0:3, 1:3, 4:3, 5:3}))\n",
    "# should print 1"
   ]
  },
  {
   "cell_type": "markdown",
   "metadata": {},
   "source": [
    "# 9. Count First Letter\n",
    "\n",
    "This function accepts a dictionary where the keys are last names and the values are lists of first names of people who have that last name. We need to calculate the number of people who have the same first letter in their last name. "
   ]
  },
  {
   "cell_type": "code",
   "execution_count": null,
   "metadata": {},
   "outputs": [],
   "source": [
    "# Count First Letter\n",
    "def count_first_letter(names):\n",
    "  letters = {}\n",
    "  for name in names.keys():\n",
    "    if name[0] not in letters:\n",
    "      letters[name[0]] = 0\n",
    "    letters[name[0]] += len(names[name])\n",
    "  return letters\n",
    "\n",
    "print(count_first_letter({\"Stark\": [\"Ned\", \"Robb\", \"Sansa\"], \"Snow\" : [\"Jon\"], \"Lannister\": [\"Jaime\", \"Cersei\", \"Tywin\"]}))\n",
    "# should print {\"S\": 4, \"L\": 3}\n",
    "print(count_first_letter({\"Stark\": [\"Ned\", \"Robb\", \"Sansa\"], \"Snow\" : [\"Jon\"], \"Sannister\": [\"Jaime\", \"Cersei\", \"Tywin\"]}))\n",
    "# should print {\"S\": 7}"
   ]
  }
 ],
 "metadata": {
  "kernelspec": {
   "display_name": "Python 3.10.4 64-bit",
   "language": "python",
   "name": "python3"
  },
  "language_info": {
   "codemirror_mode": {
    "name": "ipython",
    "version": 3
   },
   "file_extension": ".py",
   "mimetype": "text/x-python",
   "name": "python",
   "nbconvert_exporter": "python",
   "pygments_lexer": "ipython3",
   "version": "3.10.4"
  },
  "orig_nbformat": 4,
  "vscode": {
   "interpreter": {
    "hash": "1014177263681caae8baf45502689e562bf667a341984173b6f80d8733553204"
   }
  }
 },
 "nbformat": 4,
 "nbformat_minor": 2
}
