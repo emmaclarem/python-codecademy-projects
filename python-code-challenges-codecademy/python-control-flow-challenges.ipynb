{
 "cells": [
  {
   "cell_type": "markdown",
   "metadata": {},
   "source": [
    "## 1. Large Power\n",
    "\n",
    "For the first code challenge, we are going to create a method that tests whether the result of taking the power of one number to another number provides an answer which is greater than 5000. We will use a conditional statement to return True if the result is greater than 5000 or return False if it is not. "
   ]
  },
  {
   "cell_type": "code",
   "execution_count": 2,
   "metadata": {},
   "outputs": [
    {
     "name": "stdout",
     "output_type": "stream",
     "text": [
      "True\n",
      "False\n"
     ]
    }
   ],
   "source": [
    "# Large Power\n",
    "def large_power(base, exponent):\n",
    "  if base ** exponent > 5000:\n",
    "    return True\n",
    "  else:\n",
    "    return False\n",
    "\n",
    "print(large_power(2, 13))\n",
    "# should print True\n",
    "print(large_power(2, 12))\n",
    "# should print False"
   ]
  },
  {
   "cell_type": "markdown",
   "metadata": {},
   "source": [
    "## 2. Over Budget\n",
    "\n",
    "Let’s say we are trying to save some money and we are watching our budget. We need to make sure that the result of our spending is less than the total amount we have allocated for each of the categories. Our function will accept a parameter called **budget** which describes our spending limit. The next four parameters describe what we are spending our money on. We need to sum all of our spendings and compare it to the budget. If we have gone over budget, we will return True. Otherwise we return False."
   ]
  },
  {
   "cell_type": "code",
   "execution_count": 3,
   "metadata": {},
   "outputs": [
    {
     "name": "stdout",
     "output_type": "stream",
     "text": [
      "False\n",
      "True\n"
     ]
    }
   ],
   "source": [
    "# Over Budget\n",
    "def over_budget(budget, food_bill, electricity_bill, internet_bill, rent):\n",
    "  if budget < food_bill + electricity_bill + internet_bill + rent:\n",
    "    return True\n",
    "  else:\n",
    "    return False\n",
    "\n",
    "print(over_budget(100, 20, 30, 10, 40))\n",
    "# should print False\n",
    "print(over_budget(80, 20, 30, 10, 30))\n",
    "# should print True"
   ]
  },
  {
   "cell_type": "markdown",
   "metadata": {},
   "source": [
    "## 3. Twice As Large\n",
    "\n",
    "In this challenge, we will determine if one number is twice as large as another number."
   ]
  },
  {
   "cell_type": "code",
   "execution_count": 4,
   "metadata": {},
   "outputs": [
    {
     "name": "stdout",
     "output_type": "stream",
     "text": [
      "False\n",
      "True\n"
     ]
    }
   ],
   "source": [
    "# Twice as Large\n",
    "def twice_as_large(num1, num2):\n",
    "  if num1 > num2 * 2:\n",
    "    return True\n",
    "  else: \n",
    "    return False\n",
    "\n",
    "print(twice_as_large(10, 5))\n",
    "# should print False\n",
    "print(twice_as_large(11, 5))\n",
    "# should print True"
   ]
  },
  {
   "cell_type": "markdown",
   "metadata": {},
   "source": [
    "## 4. Divisible By Ten\n",
    "\n",
    "To make things a bit more challenging, we are going to create a function that determines whether or not a number is divisible by ten. "
   ]
  },
  {
   "cell_type": "code",
   "execution_count": 5,
   "metadata": {},
   "outputs": [
    {
     "name": "stdout",
     "output_type": "stream",
     "text": [
      "True\n",
      "False\n"
     ]
    }
   ],
   "source": [
    "# Divisible By Ten\n",
    "def divisible_by_ten(num):\n",
    "  if num % 10 == 0:\n",
    "    return True\n",
    "  else:\n",
    "    return False\n",
    "\n",
    "print(divisible_by_ten(20))\n",
    "# should print True\n",
    "print(divisible_by_ten(25))\n",
    "# should print False"
   ]
  },
  {
   "cell_type": "markdown",
   "metadata": {},
   "source": [
    "## 5. Not Sum To Ten\n",
    "\n",
    "We are going to check if the summation of two inputs does not equal ten. Our function will accept two inputs and add them together. If the two numbers added together are not equal to ten, then we will return True, otherwise, we will return False."
   ]
  },
  {
   "cell_type": "code",
   "execution_count": 6,
   "metadata": {},
   "outputs": [
    {
     "name": "stdout",
     "output_type": "stream",
     "text": [
      "True\n",
      "False\n",
      "False\n"
     ]
    }
   ],
   "source": [
    "# Not Sum To Ten\n",
    "def not_sum_to_ten(num1, num2):\n",
    "  if num1 + num2 != 10:\n",
    "    return True\n",
    "  else:\n",
    "    return False\n",
    "\n",
    "print(not_sum_to_ten(9, -1))\n",
    "# should print True\n",
    "print(not_sum_to_ten(9, 1))\n",
    "# should print False\n",
    "print(not_sum_to_ten(5,5))\n",
    "# should print False"
   ]
  },
  {
   "cell_type": "markdown",
   "metadata": {},
   "source": [
    "## 6. In Range\n",
    "\n",
    "Let’s test if a number falls within a certain range. We will accept three parameters where the first parameter is the number we are testing, the second parameter is the lower bound and the third parameter is the upper bound of our range."
   ]
  },
  {
   "cell_type": "code",
   "execution_count": 7,
   "metadata": {},
   "outputs": [
    {
     "name": "stdout",
     "output_type": "stream",
     "text": [
      "True\n",
      "False\n"
     ]
    }
   ],
   "source": [
    "# In Range\n",
    "def in_range(num, lower, upper):\n",
    "  if (num >= lower) and (num <= upper):\n",
    "    return True\n",
    "  else:\n",
    "    return False\n",
    "\n",
    "print(in_range(10, 10, 10))\n",
    "# should print True\n",
    "print(in_range(5, 10, 20))\n",
    "# should print False"
   ]
  },
  {
   "cell_type": "markdown",
   "metadata": {},
   "source": [
    "## 7. Same Name\n",
    "\n",
    "We need to write a program that checks different names and determines if they are equal. "
   ]
  },
  {
   "cell_type": "code",
   "execution_count": 8,
   "metadata": {},
   "outputs": [
    {
     "name": "stdout",
     "output_type": "stream",
     "text": [
      "True\n",
      "False\n"
     ]
    }
   ],
   "source": [
    "# Same Name\n",
    "def same_name(your_name, my_name):\n",
    "  if your_name == my_name:\n",
    "    return True\n",
    "  return False\n",
    "\n",
    "print(same_name(\"Colby\", \"Colby\"))\n",
    "# should print True\n",
    "print(same_name(\"Tina\", \"Amber\"))\n",
    "# should print False"
   ]
  },
  {
   "cell_type": "markdown",
   "metadata": {},
   "source": [
    "## 8. Always False\n",
    "\n",
    "There are some situations that you normally want to avoid when programming using conditional statements. One example is a contradiction. This occurs when your condition will always be false no matter what value you pass into it. Let’s create an example of a function that contains a contradiction."
   ]
  },
  {
   "cell_type": "code",
   "execution_count": 9,
   "metadata": {},
   "outputs": [
    {
     "name": "stdout",
     "output_type": "stream",
     "text": [
      "False\n",
      "False\n",
      "False\n"
     ]
    }
   ],
   "source": [
    "# Always False\n",
    "def always_false(num):\n",
    "  if (num > num / 2) and (num < num - 2):\n",
    "    return True\n",
    "  return False\n",
    "\n",
    "print(always_false(0))\n",
    "# should print False\n",
    "print(always_false(-1))\n",
    "# should print False\n",
    "print(always_false(1))\n",
    "# should print False"
   ]
  },
  {
   "cell_type": "markdown",
   "metadata": {},
   "source": [
    "## 9. Movie Review\n",
    "\n",
    "We want to create a function that will help us rate movies. Our function will split the ratings into different ranges and tell the user how the movie was based on the movie’s rating. "
   ]
  },
  {
   "cell_type": "code",
   "execution_count": 10,
   "metadata": {},
   "outputs": [
    {
     "name": "stdout",
     "output_type": "stream",
     "text": [
      "Outstanding!\n",
      "Avoid at all costs!\n",
      "This one was fun.\n"
     ]
    }
   ],
   "source": [
    "# Movie Review\n",
    "def movie_review(rating):\n",
    "  if rating <= 5:\n",
    "    return \"Avoid at all costs!\"\n",
    "  elif rating < 9:\n",
    "    return \"This one was fun.\"\n",
    "  else:\n",
    "    return \"Outstanding!\"\n",
    "\n",
    "print(movie_review(9))\n",
    "# should print \"Outstanding!\"\n",
    "print(movie_review(4))\n",
    "# should print \"Avoid at all costs!\"\n",
    "print(movie_review(6))\n",
    "# should print \"This one was fun.\""
   ]
  },
  {
   "cell_type": "markdown",
   "metadata": {},
   "source": [
    "## 10. Max Number\n",
    "\n",
    "For the final control flow challenge, we are going to select which number from three input values is the greatest using conditional statements. To do this, we need to check the different combinations of values to see which number is greater than the other two. "
   ]
  },
  {
   "cell_type": "code",
   "execution_count": 11,
   "metadata": {},
   "outputs": [
    {
     "name": "stdout",
     "output_type": "stream",
     "text": [
      "10\n",
      "5\n",
      "-5\n",
      "It's a tie!\n"
     ]
    }
   ],
   "source": [
    "# Max Number\n",
    "def max_num(num1, num2, num3):\n",
    "  if (num1 > num2) and (num1 > num3):\n",
    "    return num1\n",
    "  elif num2 > num3 and num2 > num1:\n",
    "    return num2\n",
    "  elif num3 > num1 and num3 > num2:\n",
    "    return num3\n",
    "  else:\n",
    "    return \"It's a tie!\"\n",
    "\n",
    "print(max_num(-10, 0, 10))\n",
    "# should print 10\n",
    "print(max_num(-10, 5, -30))\n",
    "# should print 5\n",
    "print(max_num(-5, -10, -10))\n",
    "# should print -5\n",
    "print(max_num(2, 3, 3))\n",
    "# should print \"It's a tie!\"\n"
   ]
  }
 ],
 "metadata": {
  "kernelspec": {
   "display_name": "Python 3.10.4 64-bit",
   "language": "python",
   "name": "python3"
  },
  "language_info": {
   "codemirror_mode": {
    "name": "ipython",
    "version": 3
   },
   "file_extension": ".py",
   "mimetype": "text/x-python",
   "name": "python",
   "nbconvert_exporter": "python",
   "pygments_lexer": "ipython3",
   "version": "3.10.4"
  },
  "orig_nbformat": 4,
  "vscode": {
   "interpreter": {
    "hash": "1014177263681caae8baf45502689e562bf667a341984173b6f80d8733553204"
   }
  }
 },
 "nbformat": 4,
 "nbformat_minor": 2
}
