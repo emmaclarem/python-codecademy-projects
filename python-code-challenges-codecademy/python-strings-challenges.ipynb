{
 "cells": [
  {
   "cell_type": "markdown",
   "metadata": {},
   "source": [
    "## 1. Count Letters\n",
    "\n",
    "For this code challenge, we are going to count the number of unique letters in a string. This means that when we are looking at the word, any new letters should be counted and any duplicates should not be counted. There are a few ways to solve this, but we can use the provided alphabet string to ensure that duplicates are not counted. "
   ]
  },
  {
   "cell_type": "code",
   "execution_count": 2,
   "metadata": {},
   "outputs": [
    {
     "name": "stdout",
     "output_type": "stream",
     "text": [
      "4\n",
      "4\n"
     ]
    }
   ],
   "source": [
    "# Count Letters\n",
    "letters = \"ABCDEFGHIJKLMNOPQRSTUVWXYZabcdefghijklmnopqrstuvwxyz\"\n",
    "\n",
    "def unique_english_letters(word):\n",
    "  unique_letters = 0\n",
    "  for letter in letters:\n",
    "    if letter in word:\n",
    "      unique_letters += 1\n",
    "  return unique_letters\n",
    "\n",
    "print(unique_english_letters(\"mississippi\"))\n",
    "# should print 4\n",
    "print(unique_english_letters(\"Apple\"))\n",
    "# should print 4"
   ]
  },
  {
   "cell_type": "markdown",
   "metadata": {},
   "source": [
    "## 2. Count X\n",
    "\n",
    "Next, we are going to count the number of occurrences of a certain letter within a string. Our function will accept a parameter for a string and another for the character which we are going to count. For example, providing the word \"mississippi\" and the character 's' would result in an answer of 4."
   ]
  },
  {
   "cell_type": "code",
   "execution_count": 3,
   "metadata": {},
   "outputs": [
    {
     "name": "stdout",
     "output_type": "stream",
     "text": [
      "4\n",
      "1\n"
     ]
    }
   ],
   "source": [
    "# Count X\n",
    "def count_char_x(word, x):\n",
    "  counter = 0\n",
    "  for letter in word:\n",
    "    if letter == x:\n",
    "      counter += 1\n",
    "  return counter\n",
    "\n",
    "print(count_char_x(\"mississippi\", \"s\"))\n",
    "# should print 4\n",
    "print(count_char_x(\"mississippi\", \"m\"))\n",
    "# should print 1"
   ]
  },
  {
   "cell_type": "markdown",
   "metadata": {},
   "source": [
    "## 3. Count Multi X\n",
    "Now let’s change our function to compare against an entire string instead of a single character. This function should accept a string and a substring to compare against. The number of occurrences of the second parameter within the first parameter string are returned. What this means is that we are checking the number of occurrences of the shorter string (second parameter) within the longer string (first parameter). "
   ]
  },
  {
   "cell_type": "code",
   "execution_count": 4,
   "metadata": {},
   "outputs": [
    {
     "name": "stdout",
     "output_type": "stream",
     "text": [
      "2\n",
      "1\n"
     ]
    }
   ],
   "source": [
    "# Count Multi X\n",
    "def count_multi_char_x(word, x):\n",
    "  counter = word.count(x)\n",
    "  return counter\n",
    "\n",
    "print(count_multi_char_x(\"mississippi\", \"iss\"))\n",
    "# should print 2\n",
    "print(count_multi_char_x(\"apple\", \"pp\"))\n",
    "# should print 1"
   ]
  },
  {
   "cell_type": "markdown",
   "metadata": {},
   "source": [
    "## 4. Substring Between\n",
    "\n",
    "We need a function that is able to extract a portion of a string between two characters. The function will take three parameters where the first parameter is the string we are going to extract the substring from, the second input is the starting character of our substring and the third character is the ending character of our substring."
   ]
  },
  {
   "cell_type": "code",
   "execution_count": 5,
   "metadata": {},
   "outputs": [
    {
     "name": "stdout",
     "output_type": "stream",
     "text": [
      "pl\n",
      "apple\n"
     ]
    }
   ],
   "source": [
    "# Substring Between\n",
    "def substring_between_letters(word, start, end):\n",
    "  start_index = word.find(start)\n",
    "  end_index = word.find(end)\n",
    "  if start_index > -1 and end_index > -1:\n",
    "    return word[start_index+1:end_index]\n",
    "  return word\n",
    "\n",
    "print(substring_between_letters(\"apple\", \"p\", \"e\"))\n",
    "# should print \"pl\"\n",
    "print(substring_between_letters(\"apple\", \"p\", \"c\"))\n",
    "# should print \"apple\""
   ]
  },
  {
   "cell_type": "markdown",
   "metadata": {},
   "source": [
    "## 5. X Length\n",
    "\n",
    "We need a new function that is able to accept two inputs: one for a sentence and another for a number. The function returns True if every single word in the sentence has a length greater than or equal to the number provided. "
   ]
  },
  {
   "cell_type": "code",
   "execution_count": 6,
   "metadata": {},
   "outputs": [
    {
     "name": "stdout",
     "output_type": "stream",
     "text": [
      "False\n",
      "True\n"
     ]
    }
   ],
   "source": [
    "# X Length\n",
    "def x_length_words(sentence, x):\n",
    "  list_of_words = sentence.split()\n",
    "  for word in list_of_words:\n",
    "    if len(word) < x:\n",
    "      return False\n",
    "    return True\n",
    "\n",
    "print(x_length_words(\"i like apples\", 2))\n",
    "# should print False\n",
    "print(x_length_words(\"he likes apples\", 2))\n",
    "# should print True"
   ]
  },
  {
   "cell_type": "markdown",
   "metadata": {},
   "source": [
    "## 6. Check Name\n",
    "\n",
    "You are creating an app that allows users to interact and share their coding project ideas online. The first step is to provide your name in the application and a greeting for other people to see which contains your name. Let’s create a function that is able to check if a user’s name is located within their greeting. We need a function that accepts two parameters, a string for our sentence and a string for a name. The function should return True if the name exists within the string (ignoring any differences in capitalization). "
   ]
  },
  {
   "cell_type": "code",
   "execution_count": 7,
   "metadata": {},
   "outputs": [
    {
     "name": "stdout",
     "output_type": "stream",
     "text": [
      "True\n",
      "True\n",
      "False\n"
     ]
    }
   ],
   "source": [
    "# Check Name\n",
    "def check_for_name(sentence, name):\n",
    "  return name.lower() in sentence.lower()\n",
    "\n",
    "print(check_for_name(\"My name is Jamie\", \"Jamie\"))\n",
    "# should print True\n",
    "print(check_for_name(\"My name is jamie\", \"Jamie\"))\n",
    "# should print True\n",
    "print(check_for_name(\"My name is Samantha\", \"Jamie\"))\n",
    "# should print False"
   ]
  },
  {
   "cell_type": "markdown",
   "metadata": {},
   "source": [
    "## 7. Every Other Letter\n",
    "\n",
    "For this next function, we are going to create a function that extract every other letter from a string and returns the resulting string. "
   ]
  },
  {
   "cell_type": "code",
   "execution_count": 8,
   "metadata": {},
   "outputs": [
    {
     "name": "stdout",
     "output_type": "stream",
     "text": [
      "Cdcdm\n",
      "Hlowrd\n",
      "\n"
     ]
    }
   ],
   "source": [
    "# Every Other Letter\n",
    "def every_other_letter(word):\n",
    "  new_list = \"\"\n",
    "  for i in range(0, len(word), 2):\n",
    "    new_list += word[i]\n",
    "  return new_list\n",
    "\n",
    "print(every_other_letter(\"Codecademy\"))\n",
    "# should print Cdcdm\n",
    "print(every_other_letter(\"Hello world!\"))\n",
    "# should print Hlowrd\n",
    "print(every_other_letter(\"\"))\n",
    "# should print "
   ]
  },
  {
   "cell_type": "markdown",
   "metadata": {},
   "source": [
    "## 8. Reverse\n",
    "\n",
    "This one is similar to the last challenge. Instead of selecting every other letter, we want to reverse the entire string. This can be performed in a similar manner, but we will need to modify the range we are using."
   ]
  },
  {
   "cell_type": "code",
   "execution_count": 9,
   "metadata": {},
   "outputs": [
    {
     "name": "stdout",
     "output_type": "stream",
     "text": [
      "ymedacedoC\n",
      "!dlrow olleH\n",
      "\n"
     ]
    }
   ],
   "source": [
    "# Reverse\n",
    "def reverse_string(word):\n",
    "  reverse = \"\"\n",
    "  for i in range(len(word)-1, -1, -1):\n",
    "    reverse += word[i]\n",
    "  return reverse\n",
    "\n",
    "print(reverse_string(\"Codecademy\"))\n",
    "# should print ymedacedoC\n",
    "print(reverse_string(\"Hello world!\"))\n",
    "# should print !dlrow olleH\n",
    "print(reverse_string(\"\"))\n",
    "# should print"
   ]
  },
  {
   "cell_type": "markdown",
   "metadata": {},
   "source": [
    "## 9. Make Spoonerism\n",
    "\n",
    "A Spoonerism is an error in speech when the first syllables of two words are switched. For example, a Spoonerism is made when someone says “Belly Jeans” instead of “Jelly Beans”. We are going to make a function that is similar, but instead of using the first syllable, we are going to switch the first character of two words. "
   ]
  },
  {
   "cell_type": "code",
   "execution_count": 10,
   "metadata": {},
   "outputs": [
    {
     "name": "stdout",
     "output_type": "stream",
     "text": [
      "Lodecademy Cearn\n",
      "wello Horld!\n",
      "b a\n"
     ]
    }
   ],
   "source": [
    "# Make Spoonerism\n",
    "def make_spoonerism(word1, word2):\n",
    "  return (f\"{word2[0]}{word1[1:]} {word1[0]}{word2[1:]}\") \n",
    "\n",
    "print(make_spoonerism(\"Codecademy\", \"Learn\"))\n",
    "# should print Lodecademy Cearn\n",
    "print(make_spoonerism(\"Hello\", \"world!\"))\n",
    "# should print wello Horld!\n",
    "print(make_spoonerism(\"a\", \"b\"))\n",
    "# should print b a"
   ]
  },
  {
   "cell_type": "markdown",
   "metadata": {},
   "source": [
    "## 10. Add Exclamation\n",
    "Let’s say we are writing a program that displays a large message on a blimp and we need to fill in any missing space if a short phrase is provided. Our function will accept a string and if the size is less than 20, it will fill in the remaining space with exclamation marks until the size reaches 20. If the provided string already has a length greater than 20, then we will simply return the original string. "
   ]
  },
  {
   "cell_type": "code",
   "execution_count": 11,
   "metadata": {},
   "outputs": [
    {
     "name": "stdout",
     "output_type": "stream",
     "text": [
      "Codecademy!!!!!!!!!!\n",
      "Codecademy is the best place to learn\n"
     ]
    }
   ],
   "source": [
    "# Add Exclamation\n",
    "def add_exclamation(word):\n",
    "  while len(word) < 20:\n",
    "    word += \"!\"\n",
    "  return word\n",
    "\n",
    "print(add_exclamation(\"Codecademy\"))\n",
    "# should print Codecademy!!!!!!!!!!\n",
    "print(add_exclamation(\"Codecademy is the best place to learn\"))\n",
    "#should print Codecademy is the best place to learn"
   ]
  }
 ],
 "metadata": {
  "kernelspec": {
   "display_name": "Python 3.10.4 64-bit",
   "language": "python",
   "name": "python3"
  },
  "language_info": {
   "codemirror_mode": {
    "name": "ipython",
    "version": 3
   },
   "file_extension": ".py",
   "mimetype": "text/x-python",
   "name": "python",
   "nbconvert_exporter": "python",
   "pygments_lexer": "ipython3",
   "version": "3.10.4"
  },
  "orig_nbformat": 4,
  "vscode": {
   "interpreter": {
    "hash": "1014177263681caae8baf45502689e562bf667a341984173b6f80d8733553204"
   }
  }
 },
 "nbformat": 4,
 "nbformat_minor": 2
}
